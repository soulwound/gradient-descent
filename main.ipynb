{
 "cells": [
  {
   "cell_type": "code",
   "execution_count": 12,
   "metadata": {},
   "outputs": [
    {
     "name": "stdout",
     "output_type": "stream",
     "text": [
      "Error: 0.03999999999999998 Prediction: 1.0\n",
      "Error: 0.3599999999999998 Prediction: 0.20000000000000018\n",
      "Error: 3.2399999999999984 Prediction: 2.5999999999999996\n",
      "Error: 29.159999999999986 Prediction: -4.599999999999999\n",
      "Error: 262.4399999999999 Prediction: 16.999999999999996\n",
      "Error: 2361.959999999998 Prediction: -47.79999999999998\n",
      "Error: 21257.639999999978 Prediction: 146.59999999999994\n",
      "Error: 191318.75999999983 Prediction: -436.5999999999998\n",
      "Error: 1721868.839999999 Prediction: 1312.9999999999995\n",
      "Error: 15496819.559999991 Prediction: -3935.799999999999\n",
      "Error: 139471376.03999993 Prediction: 11810.599999999997\n",
      "Error: 1255242384.3599997 Prediction: -35428.59999999999\n",
      "Error: 11297181459.239996 Prediction: 106288.99999999999\n",
      "Error: 101674633133.15994 Prediction: -318863.79999999993\n",
      "Error: 915071698198.4395 Prediction: 956594.5999999997\n",
      "Error: 8235645283785.954 Prediction: -2869780.599999999\n",
      "Error: 74120807554073.56 Prediction: 8609344.999999996\n",
      "Error: 667087267986662.1 Prediction: -25828031.799999986\n",
      "Error: 6003785411879960.0 Prediction: 77484098.59999996\n",
      "Error: 5.403406870691965e+16 Prediction: -232452292.5999999\n"
     ]
    }
   ],
   "source": [
    "weight = 0.5\n",
    "goal_pred = 0.8 \n",
    "input = 0.5\n",
    "#input = 2\n",
    "# Вызывает расхождение, т.к. входные данные слишком велики. Помогает в решении проблемы альфа коэффициент\n",
    "\n",
    "for i in range(20):\n",
    "    pred = input * weight\n",
    "    error = (pred - goal_pred) ** 2\n",
    "    direction_and_amount = (pred - goal_pred) * input # Масштабирование, оценка знака и остановка\n",
    "    weight = weight - direction_and_amount\n",
    "\n",
    "    print('Error:', error, 'Prediction:', pred)"
   ]
  },
  {
   "cell_type": "markdown",
   "metadata": {},
   "source": [
    "### Остановка\n",
    "Если input получит значение 0, тогда direction_and_amount также получит значение 0. Обучения (изменения громкости) не будет происходить, когда переменная input будет равна 0, потому что нечему будет учиться. Каждое значение weight будет давать одну и ту же ошибку error, и попытка изменить ее не будет давать результата, потому что pred всегда будет равна 0.\n",
    "\n",
    "### Оценка знака\n",
    "При отрицательном значении input смещение веса вверх заставит прогноз смещаться вниз. Это и есть обращение знака! Как этого добиться? Все просто, умножение чистой ошибки на input меняет знак direction_and_amount, если input имеет отрицательное значение. Такое обращение знака гарантирует изменение веса в правильном направлении, даже когда input имеет отрицательное значение.\n",
    "\n",
    "### Масштабирование\n",
    "Масштабирование — это третий эффект, вызываемый умножением чистой ошибки на input. По логике, если input имеет большое значение, значит, и вес нужно изменить на большую величину. Это в большей степени побочный эффект, потом что часто выходит из-под контроля. Позднее мы познакомимся с альфа-коэффициентом, который будем использовать, когда такое случится."
   ]
  },
  {
   "cell_type": "code",
   "execution_count": 13,
   "metadata": {},
   "outputs": [
    {
     "name": "stdout",
     "output_type": "stream",
     "text": [
      "Error: 0.03999999999999998 Prediction: 1.0\n",
      "Error: 0.0144 Prediction: 0.92\n",
      "Error: 0.005183999999999993 Prediction: 0.872\n",
      "Error: 0.0018662400000000014 Prediction: 0.8432000000000001\n",
      "Error: 0.0006718464000000028 Prediction: 0.8259200000000001\n",
      "Error: 0.00024186470400000033 Prediction: 0.815552\n",
      "Error: 8.70712934399997e-05 Prediction: 0.8093312\n",
      "Error: 3.134566563839939e-05 Prediction: 0.80559872\n",
      "Error: 1.1284439629823931e-05 Prediction: 0.803359232\n",
      "Error: 4.062398266736526e-06 Prediction: 0.8020155392\n",
      "Error: 1.4624633760252567e-06 Prediction: 0.8012093235200001\n",
      "Error: 5.264868153690924e-07 Prediction: 0.8007255941120001\n",
      "Error: 1.8953525353291194e-07 Prediction: 0.8004353564672001\n",
      "Error: 6.82326912718715e-08 Prediction: 0.8002612138803201\n",
      "Error: 2.456376885786678e-08 Prediction: 0.8001567283281921\n",
      "Error: 8.842956788836216e-09 Prediction: 0.8000940369969153\n",
      "Error: 3.1834644439835434e-09 Prediction: 0.8000564221981492\n",
      "Error: 1.1460471998340758e-09 Prediction: 0.8000338533188895\n",
      "Error: 4.125769919393652e-10 Prediction: 0.8000203119913337\n",
      "Error: 1.485277170987127e-10 Prediction: 0.8000121871948003\n"
     ]
    }
   ],
   "source": [
    "weight = 0.5\n",
    "goal_pred = 0.8 \n",
    "input = 2\n",
    "alpha = 0.1 # альфа-коэффинциент\n",
    "\n",
    "for i in range(20):\n",
    "    pred = input * weight\n",
    "    error = (pred - goal_pred) ** 2\n",
    "    derivative = (pred - goal_pred) * input # Масштабирование, оценка знака и остановка\n",
    "    weight = weight - alpha*derivative\n",
    "\n",
    "    print('Error:', error, 'Prediction:', pred)"
   ]
  }
 ],
 "metadata": {
  "kernelspec": {
   "display_name": "Python 3",
   "language": "python",
   "name": "python3"
  },
  "language_info": {
   "codemirror_mode": {
    "name": "ipython",
    "version": 3
   },
   "file_extension": ".py",
   "mimetype": "text/x-python",
   "name": "python",
   "nbconvert_exporter": "python",
   "pygments_lexer": "ipython3",
   "version": "3.13.1"
  }
 },
 "nbformat": 4,
 "nbformat_minor": 2
}
